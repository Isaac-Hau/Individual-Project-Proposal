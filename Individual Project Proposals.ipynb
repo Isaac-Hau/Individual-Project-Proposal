{
 "cells": [
  {
   "cell_type": "markdown",
   "id": "d50c9980",
   "metadata": {},
   "source": [
    "- # Research Question 1:\n",
    "    - How did COVID-19 vaccination rates impact the severity and frequency of COVID-19 cases in different age groups?\n",
    "- Variables:\n",
    "    - Independant Variable:\n",
    "        - Vaccination rate: how many people out of the population has received a vaccine\n",
    "    - Dependent Variables:\n",
    "        - COVID-19 case count: how many people got infected??\n",
    "        - Hospitalization rate: how severe is the sickness for people who did not receive the vaccine?\n",
    "        - Mortality rate: did people die because they didn't take the vaccine?\n",
    "    - Controled Variable:\n",
    "        - Age group: older people are tended to get infected more easily\n",
    "- Analysis:\n",
    "    - We could use a scatter plot with trend lines to determine the strength and correlation between vaccination rates and COVID-19 outcomes across age groups. Alternatively, a comparison of means could assess differences in outcomes between vaccinated and unvaccinated age groups.\n",
    "- Hypothesis:\n",
    "    - Higher COVID-19 vaccination rates within a population will be associated with lower hospitalization and mortality rates.\n",
    "    - Expected Outcome: \n",
    "        - Populations with higher vaccination rates will experience fewer severe cases of COVID-19 (i.e., lower rates of hospitalization and death)."
   ]
  },
  {
   "cell_type": "markdown",
   "id": "0547c533",
   "metadata": {},
   "source": [
    "- # Research Question 2:\n",
    "    - How does the amount of daily social media usage relate to self-reported levels of anxiety and depression among young adults?\n",
    "- Variables:\n",
    "    - Independant Variable:\n",
    "        - Social Media Usage Time: how much time they spend doom scrolling everyday\n",
    "    - Dependent Variables:\n",
    "        - Anxiety Level: are they anxious??\n",
    "        - Depression Level: are they depressed so they doom scroll?\n",
    "    - Control Variables:\n",
    "        - Age: teens or young adults are more likely to use their mobile devices more\n",
    "        - Gender\n",
    "- Analysis:\n",
    "    - We can use a line graph to help visuals the trends and relationship between social media usage and mental health metrics, such as anxiety and depression scores, over a continuum of social media usage levels.\n",
    "- Hypothesis:\n",
    "    - Higher daily social media usage will be associated with higher self-reported levels of anxiety and depression among young adults.\n",
    "    - Expected Outcome:\n",
    "        - Individuals who report high levels of social media usage will also report significantly higher anxiety and depression scores compared to those with low or moderate usage."
   ]
  },
  {
   "cell_type": "markdown",
   "id": "2a2586f3",
   "metadata": {},
   "source": [
    "- # Research Question 3:\n",
    "    - How do various environmental factors, such as temperature, humidity, and traffic density, impact air quality levels in urban areas?\n",
    "- Variables:\n",
    "    - Independent Variable: \n",
    "        - Temperature: increased amount of energy used\n",
    "        - Humidity\n",
    "        - Traffic Density: vehicles releases CO2\n",
    "        - Wind Speed: how this pollution is spread across\n",
    "    - Dependent Variable:\n",
    "        - Air Quality Index: AQI\n",
    "    - Control Variables:\n",
    "        - Time of Day: people are more active during rush hours\n",
    "        - Season: if it's coler during winter, people might drive their own vehicle more\n",
    "- Analysis:\n",
    "    - We can use a box plot to show the distribution of AQI values across different seasons or time periods and observe how environmental factors affect air quality differently over the year. \n",
    "    - We can also use a line graph to display how AQI changes over time (e.g., hourly, daily, or weekly) and how it correlates with environmental factors like temperature, humidity, and wind speed.\n",
    "- Hypothesis:\n",
    "    - Higher traffic density will correlate with higher AQI values, indicating poorer air quality.\n",
    "    - Expected Outcome:\n",
    "        - Urban areas with higher vehicle density will tend to have higher AQI values due to emissions from vehicles contributing to air pollution."
   ]
  },
  {
   "cell_type": "code",
   "execution_count": null,
   "id": "f2189dad",
   "metadata": {},
   "outputs": [],
   "source": []
  }
 ],
 "metadata": {
  "kernelspec": {
   "display_name": "Python 3 (ipykernel)",
   "language": "python",
   "name": "python3"
  },
  "language_info": {
   "codemirror_mode": {
    "name": "ipython",
    "version": 3
   },
   "file_extension": ".py",
   "mimetype": "text/x-python",
   "name": "python",
   "nbconvert_exporter": "python",
   "pygments_lexer": "ipython3",
   "version": "3.11.6"
  }
 },
 "nbformat": 4,
 "nbformat_minor": 5
}
